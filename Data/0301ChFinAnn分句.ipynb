{
 "cells": [
  {
   "cell_type": "markdown",
   "metadata": {},
   "source": [
    "# 01 Mar ChFinAnn分句\n",
    "之前发现有长句子>128的被截断了\n",
    "将句子重新拆分，<128的合并"
   ]
  },
  {
   "cell_type": "code",
   "execution_count": 1,
   "metadata": {},
   "outputs": [],
   "source": [
    "import json\n",
    "def read_file(path):\n",
    "    res = []\n",
    "    with open(path,'r',encoding='utf-8') as f:\n",
    "        return json.load(f)"
   ]
  },
  {
   "cell_type": "markdown",
   "metadata": {},
   "source": [
    "# load dataset & data exploration"
   ]
  },
  {
   "cell_type": "code",
   "execution_count": 45,
   "metadata": {},
   "outputs": [],
   "source": [
    "#train = read_file(\"./typed_train.json\")\n",
    "#dev = read_file(\"./typed_dev.json\")\n",
    "test = read_file(\"./typed_test.json\")"
   ]
  },
  {
   "cell_type": "code",
   "execution_count": 36,
   "metadata": {},
   "outputs": [],
   "source": [
    "num_sent = []\n",
    "for i in range(len(test)):\n",
    "    #for sent in train[i][1]['sentences']:\n",
    "    num_sent.append(len(test[i][1]['sentences']))\n",
    "    "
   ]
  },
  {
   "cell_type": "code",
   "execution_count": 37,
   "metadata": {},
   "outputs": [
    {
     "data": {
      "text/plain": [
       "21.015605493133585"
      ]
     },
     "execution_count": 37,
     "metadata": {},
     "output_type": "execute_result"
    }
   ],
   "source": [
    "import numpy as bp\n",
    "bp.mean(num_sent)"
   ]
  },
  {
   "cell_type": "code",
   "execution_count": 82,
   "metadata": {},
   "outputs": [
    {
     "data": {
      "text/plain": [
       "832"
      ]
     },
     "execution_count": 82,
     "metadata": {},
     "output_type": "execute_result"
    }
   ],
   "source": [
    "max(num_sent)"
   ]
  },
  {
   "cell_type": "code",
   "execution_count": 7,
   "metadata": {},
   "outputs": [],
   "source": [
    "def sent_seg(\n",
    "    text,\n",
    "    special_seg_indicators=None,\n",
    "    lang=\"zh\",\n",
    "    punctuations=None,\n",
    "    quotation_seg_mode=True,\n",
    ") -> list:\n",
    "    \"\"\"\n",
    "    cut texts into sentences (in chinese language).\n",
    "    Args:\n",
    "        text <str>: texts ready to be cut\n",
    "        special_seg_indicators <list>: some special segment indicators and\n",
    "            their replacement ( [indicator, replacement] ), in baike data,\n",
    "            this argument could be `[('###', '\\n'), ('%%%', ' '), ('%%', ' ')]`\n",
    "        lang <str>: languages that your corpus is, support `zh` for Chinese\n",
    "            and `en` for English now.\n",
    "        punctuations <set>: you can split the texts by specified punctuations.\n",
    "            texts will not be splited by `;`, so you can specify them by your own.\n",
    "        quotation_seg_mode <bool>: if True, the quotations will be regarded as a\n",
    "            part of the former sentence.\n",
    "            e.g. `我说：“翠花，上酸菜。”，她说：“欸，好嘞。”`\n",
    "            the text will be splited into\n",
    "            ['我说：“翠花，上酸菜。”，', '她说：“欸，好嘞。”'], other than\n",
    "            ['我说：“翠花，上酸菜。', '”，她说：“欸，好嘞。”']\n",
    "    Rrturns:\n",
    "        <list>: a list of strings, which are splited sentences.\n",
    "    \"\"\"\n",
    "    # if texts are not in string format, raise an error\n",
    "    if not isinstance(text, str):\n",
    "        raise ValueError\n",
    "\n",
    "    # if the text is empty, return a list with an empty string\n",
    "    if len(text) == 0:\n",
    "        return []\n",
    "\n",
    "    text_return = text\n",
    "\n",
    "    # segment on specified indicators\n",
    "    # special indicators standard, like [('###', '\\n'), ('%%%', '\\t'), ('\\s', '')]\n",
    "    if special_seg_indicators:\n",
    "        for indicator in special_seg_indicators:\n",
    "            text_return = re.sub(indicator[0], indicator[1], text_return)\n",
    "\n",
    "    if lang == \"zh\":\n",
    "        punkt = {\"。\", \"？\", \"！\", \"…\"}\n",
    "    elif lang == \"en\":\n",
    "        punkt = {\".\", \"?\", \"!\"}\n",
    "    if punctuations:\n",
    "        punkt = punkt | punctuations\n",
    "\n",
    "    if quotation_seg_mode:\n",
    "        text_return = re.sub(\n",
    "            \"([%s]+[’”`'\\\"]*)\" % (\"\".join(punkt)), \"\\\\1\\n\", text_return\n",
    "        )\n",
    "    else:\n",
    "        text_return = re.sub(\"([{}])\".format(\"\".join(punkt)), \"\\\\1\\n\", text_return)\n",
    "\n",
    "    # drop sentences with no length\n",
    "    return [\n",
    "        s.strip()\n",
    "        for s in filter(\n",
    "            lambda x: len(x.strip()) == 1\n",
    "            and x.strip() not in punkt\n",
    "            or len(x.strip()) > 0,\n",
    "            text_return.split(\"\\n\"),\n",
    "        )\n",
    "    ]\n",
    "\n",
    "\n",
    "def stat_sent_len(filepath):\n",
    "    num_sents = []\n",
    "    sent_len = []\n",
    "    for d in load_line_json_iterator(filepath):\n",
    "        sents = sent_seg(d[\"text\"])\n",
    "        num_sents.append(len(sents))\n",
    "        lens = [len(sent) for sent in sents]\n",
    "        sent_len.extend(lens)\n",
    "        # if min(lens) < 5:\n",
    "        #     print(\"================= raw text =================\")\n",
    "        #     print(d[\"text\"])\n",
    "        #     print(\"================= processed text =================\")\n",
    "        #     print(\"\\n\".join(filter(lambda x: len(x) < 5, sents)))\n",
    "        #     breakpoint()\n",
    "    sent_len_counter = Counter(sent_len)\n",
    "    print(\n",
    "        (\n",
    "            f\"num_sents: min: {min(num_sents)}, median: {median(num_sents)}, max: {max(num_sents)}\\n\"\n",
    "            f\"sent_len: min: {min(sent_len)}, median: {median(sent_len)}, max: {max(sent_len)}\"\n",
    "            f\"{sent_len_counter.most_common()}\"\n",
    "        )\n",
    "    )\n",
    "\n",
    "# qy:将短句子合并为每句总长不超过128\n",
    "def reorganise_sents(sents, max_seq_len, concat=False, final_cut=False, concat_str=\" \"):\n",
    "    # qy:concat 是否合并句子\n",
    "    new_sents = []\n",
    "    group = \"\"\n",
    "    for sent in sents:\n",
    "        if len(sent) + len(group) < max_seq_len:\n",
    "            if concat:\n",
    "                if len(group) > 1 and \"\\u4e00\" <= group[-1] <= \"\\u9fa5\":\n",
    "                    group += concat_str + sent\n",
    "                else:\n",
    "                    group += sent\n",
    "            else:\n",
    "                new_sents.append(sent)\n",
    "        else:\n",
    "            if len(group) > 0:\n",
    "                new_sents.append(group)\n",
    "                group = \"\"\n",
    "            if len(sent) > max_seq_len:\n",
    "                if final_cut:\n",
    "                    group = sent[:max_seq_len]\n",
    "                else:\n",
    "                    sent_splits = sent_seg(sent, punctuations={\"，\", \"、\"})\n",
    "                    reorg_sent_splits = reorganise_sents(\n",
    "                        sent_splits, max_seq_len, concat=True, final_cut=True\n",
    "                    )\n",
    "                    new_sents.extend(reorg_sent_splits)\n",
    "            else:\n",
    "                group = sent\n",
    "    if len(group) > 0:\n",
    "        new_sents.append(group)\n",
    "    return [s.strip() for s in filter(lambda x: len(x) > 0, new_sents)]\n"
   ]
  },
  {
   "cell_type": "code",
   "execution_count": 37,
   "metadata": {},
   "outputs": [
    {
     "data": {
      "text/plain": [
       "['证券简称：大连热电证券代码：600719编号：临2012-022',\n",
       " '大连热电股份有限公司股份冻结提示性公告',\n",
       " '本公司及董事会全体成员保证公告内容的真实、准确和完整，对公告的虚假记载、误导性陈述或者重大遗漏负连带责任。',\n",
       " '公司曾在2012年半年度报告中披露控股股东大连市热电集团有限公司（持有本公司66566900股股份,占总股本的32.91%，以下简称“热电集团”）持有本公司的8000000股无限售流通股股份（占公司总股本的3.95%）被司法冻结。',\n",
       " '经向中国证券登记结算有限责任公司上海分公司查询，并经热电集团进一步查证获悉，系热电集团与大连振发房地产开发有限公司因热电集团组建前原春海热电有限公司动迁事宜发生动迁承包合同纠纷被辽宁省大连市中级人民法院司法冻结。',\n",
       " '冻结期限为2012年3月30日至2014年3月29日。',\n",
       " '特此公告。',\n",
       " '大连热电股份有限公司董事会',\n",
       " '二○一二年十二月六日']"
      ]
     },
     "execution_count": 37,
     "metadata": {},
     "output_type": "execute_result"
    }
   ],
   "source": [
    "train[2122][1]['sentences']"
   ]
  },
  {
   "cell_type": "code",
   "execution_count": 39,
   "metadata": {},
   "outputs": [
    {
     "data": {
      "text/plain": [
       "'股票代码：601002股票简称：晋亿实业公告编号：临2011-020号。晋亿实业股份有限公司关于股东减持股份的公告。本公司董事会及全体董事保证本公告内容不存在任何虚假记载、误导性陈述或者重大遗漏，并对其内容的真实性、准确性和完整性承担个别及连带责任。2011年5月11日，本公司接到第二大股东丁建中函告，2011年5月10日丁建中通过上海证劵交易所大宗交易方式减持晋亿实业股份5500000股，占公司股份总数的0.74%。本次减持后，丁建中尚持有晋亿实业股份36900100股，均为无限售条件流通股份，占公司股份总数的4.997%。按照有关规定,丁建中委托本公司代为履行公告义务。特此公告。晋亿实业股份有限公司董事会2011年5月12日'"
      ]
     },
     "execution_count": 39,
     "metadata": {},
     "output_type": "execute_result"
    }
   ],
   "source": [
    "text = train[1143][1]['sentences']\n",
    "text = '。'.join(text[:3])+''.join(text[3:])\n",
    "text"
   ]
  },
  {
   "cell_type": "code",
   "execution_count": 50,
   "metadata": {},
   "outputs": [],
   "source": [
    "import re\n",
    "import sys\n",
    "import json\n",
    "from collections import Counter, defaultdict\n",
    "from statistics import median\n",
    "def convert_sents(text):\n",
    "    #text = '。'.join(text1[:3])+''.join(text1[3:])\n",
    "    sents = sent_seg(text, punctuations={\"；\"}) # qy:sentence segmentation\n",
    "    #sents = reorganise_sents(sents, max_seq_len = 128, concat=True) # qy:合并短句\n",
    "            # sents = d['map_sentences']\n",
    "            # sentence length filtering\n",
    "    sents = list(filter(lambda x: len(x) >= 5, sents)) # qy:去除<5个字的句子\n",
    "    return sents"
   ]
  },
  {
   "cell_type": "code",
   "execution_count": 42,
   "metadata": {},
   "outputs": [],
   "source": [
    "def convert_data(dataset):\n",
    "    for data in dataset:\n",
    "        data[1]['sentences'] = convert_sents(data[1]['sentences'])"
   ]
  },
  {
   "cell_type": "code",
   "execution_count": 30,
   "metadata": {},
   "outputs": [],
   "source": [
    "convert_data(train)\n"
   ]
  },
  {
   "cell_type": "code",
   "execution_count": 34,
   "metadata": {},
   "outputs": [
    {
     "data": {
      "text/plain": [
       "['SH600477_2009-04-15_51238506',\n",
       " {'sentences': ['证券代码：600477证券简称：杭萧钢构编号：临2009-009。',\n",
       "   '浙江杭萧钢构股份有限公司关于股东减持公司公司股份的公告。',\n",
       "   '本公司董事会及全体董事保证本公告内容不存在任何虚假记载、误导性陈述或者重大遗漏，并对其内容的真实性、准确性和完整性承担个别及连带责任。',\n",
       "   '2009年4月13日，本公司接股东潘金水通知，截止2009年4月13日，潘金水先生通过上海证券交易所交易系统累计出售其所持本公司无限售条件流通股3216275股，占本公司总股本的1.30%。',\n",
       "   '本次权益变动后，潘金水先生尚持有本公司股份20252000股，占本公司总股本的8.18%，其中有限售条件流通股11089584股，无限售条件流通股9162416股。',\n",
       "   '公司董事会郑重提醒广大投资者注意投资风险，理性投资。',\n",
       "   '《上海证券报》为公司指定的信息披露报纸，公司将严格按照有关法律法规的规定和要求，真实、准确、完整、及时做好信息披露工作。',\n",
       "   '特此公告。',\n",
       "   '浙江杭萧钢构股份有限公司董事会2009年4月14日'],\n",
       "  'ann_valid_mspans': ['600477',\n",
       "   '杭萧钢构',\n",
       "   '杭萧钢构股份有限公司',\n",
       "   '2009年4月13日',\n",
       "   '潘金水',\n",
       "   '3216275股',\n",
       "   '9162416股'],\n",
       "  'ann_valid_dranges': [[0, 5, 11],\n",
       "   [0, 16, 20],\n",
       "   [1, 2, 12],\n",
       "   [3, 0, 10],\n",
       "   [3, 17, 20],\n",
       "   [3, 25, 35],\n",
       "   [3, 36, 39],\n",
       "   [3, 72, 80],\n",
       "   [4, 8, 11],\n",
       "   [4, 73, 81],\n",
       "   [8, 2, 12]],\n",
       "  'ann_mspan2dranges': {'600477': [[0, 5, 11]],\n",
       "   '杭萧钢构': [[0, 16, 20]],\n",
       "   '杭萧钢构股份有限公司': [[1, 2, 12], [8, 2, 12]],\n",
       "   '2009年4月13日': [[3, 0, 10], [3, 25, 35]],\n",
       "   '潘金水': [[3, 17, 20], [3, 36, 39], [4, 8, 11]],\n",
       "   '3216275股': [[3, 72, 80]],\n",
       "   '9162416股': [[4, 73, 81]]},\n",
       "  'ann_mspan2guess_field': {'600477': 'StockCode',\n",
       "   '杭萧钢构': 'StockAbbr',\n",
       "   '杭萧钢构股份有限公司': 'CompanyName',\n",
       "   '2009年4月13日': 'EndDate',\n",
       "   '潘金水': 'EquityHolder',\n",
       "   '3216275股': 'TradedShares',\n",
       "   '9162416股': 'LaterHoldingShares'},\n",
       "  'recguid_eventname_eventdict_list': [[0,\n",
       "    'EquityUnderweight',\n",
       "    {'EquityHolder': '潘金水',\n",
       "     'TradedShares': '3216275股',\n",
       "     'StartDate': None,\n",
       "     'EndDate': '2009年4月13日',\n",
       "     'LaterHoldingShares': '9162416股',\n",
       "     'AveragePrice': None}]],\n",
       "  'doc_type': 'o2o'}]"
      ]
     },
     "execution_count": 34,
     "metadata": {},
     "output_type": "execute_result"
    }
   ],
   "source": [
    "train[113]"
   ]
  },
  {
   "cell_type": "code",
   "execution_count": 32,
   "metadata": {},
   "outputs": [
    {
     "data": {
      "text/plain": [
       "13.804775280898877"
      ]
     },
     "execution_count": 32,
     "metadata": {},
     "output_type": "execute_result"
    }
   ],
   "source": [
    "num_sent = []\n",
    "for i in range(len(train)):\n",
    "    #for sent in train[i][1]['sentences']:\n",
    "    num_sent.append(len(train[i][1]['sentences']))\n",
    "bp.mean(num_sent)    "
   ]
  },
  {
   "cell_type": "code",
   "execution_count": 53,
   "metadata": {},
   "outputs": [],
   "source": [
    "convert_data(test)\n",
    "convert_data(dev)"
   ]
  },
  {
   "cell_type": "code",
   "execution_count": 54,
   "metadata": {
    "scrolled": true
   },
   "outputs": [
    {
     "data": {
      "text/plain": [
       "['SZ002239_2018-09-08_1205425879',\n",
       " {'sentences': ['股票代码：002239证券简称：奥特佳公告编号：2018-090。奥特佳新能源科技股份有限公司关于公司股东股份质押的公告。本公司及董事会全体成员保证本次信息披露的内容真实、准确、完整，没有虚假记载、误导性陈述或重大遗漏。',\n",
       "   '2018年9月7日，本公司接到公司股东北京天佑投资有限公司（以下简称“北京天佑”）通知，当日该公司将其所持有的本公司部分股份办理了股票质押手续，具体情况如下：1、股份质押的基本情况*北京天佑受本公司实际控制人张永明先生控制，',\n",
       "   '与同受张永明先生控制的本公司股东江苏天佑金淦投资有限公司、西藏天佑投资有限公司构成一致行动关系。',\n",
       "   '2、北京天佑股份被累计质押的情况截至本公告披露日，北京天佑共持有本公司股份325438596股，占本公司总股本的10.39%；此次质押的10000000股占其持有的本公司股份的3.07%，占公司总股本的0.32%；',\n",
       "   '北京天佑所持有的本公司股份已累计被质押225000000股，占其所持有本公司股份的69.14%，占公司总股本的7.19%。',\n",
       "   '截至本公告披露日，本公司实际控制人及其包括北京天佑在内的一致行动人共质押本公司股份287018581股，占其合计持有本公司741297531股股份的38.72%，占公司总股本的9.166%。3、备查文件申万宏源西部证券有限公司出具的《合并质押交割单》。',\n",
       "   '特此公告。奥特佳新能源科技股份有限公司董事会二〇一八年九月八日'],\n",
       "  'ann_valid_mspans': ['002239',\n",
       "   '奥特佳',\n",
       "   '奥特佳新能源科技股份有限公司',\n",
       "   '2018年9月7日',\n",
       "   '北京天佑投资有限公司',\n",
       "   '江苏天佑金淦投资有限公司',\n",
       "   '325438596股',\n",
       "   '10.39%',\n",
       "   '10000000股',\n",
       "   '0.32%',\n",
       "   '225000000股',\n",
       "   '申万宏源西部证券有限公司'],\n",
       "  'ann_valid_dranges': [[0, 5, 11],\n",
       "   [0, 16, 19],\n",
       "   [1, 0, 14],\n",
       "   [4, 0, 9],\n",
       "   [4, 19, 29],\n",
       "   [8, 38, 50],\n",
       "   [10, 21, 31],\n",
       "   [11, 3, 9],\n",
       "   [11, 15, 24],\n",
       "   [12, 3, 8],\n",
       "   [12, 28, 38],\n",
       "   [18, 0, 12],\n",
       "   [20, 0, 14]],\n",
       "  'ann_mspan2dranges': {'002239': [[0, 5, 11]],\n",
       "   '奥特佳': [[0, 16, 19]],\n",
       "   '奥特佳新能源科技股份有限公司': [[1, 0, 14], [20, 0, 14]],\n",
       "   '2018年9月7日': [[4, 0, 9]],\n",
       "   '北京天佑投资有限公司': [[4, 19, 29]],\n",
       "   '江苏天佑金淦投资有限公司': [[8, 38, 50]],\n",
       "   '325438596股': [[10, 21, 31]],\n",
       "   '10.39%': [[11, 3, 9]],\n",
       "   '10000000股': [[11, 15, 24]],\n",
       "   '0.32%': [[12, 3, 8]],\n",
       "   '225000000股': [[12, 28, 38]],\n",
       "   '申万宏源西部证券有限公司': [[18, 0, 12]]},\n",
       "  'ann_mspan2guess_field': {'002239': 'StockCode',\n",
       "   '奥特佳': 'StockAbbr',\n",
       "   '奥特佳新能源科技股份有限公司': 'CompanyName',\n",
       "   '江苏天佑金淦投资有限公司': 'EquityHolder',\n",
       "   '北京天佑投资有限公司': 'EquityHolder',\n",
       "   '325438596股': 'TotalHoldingShares',\n",
       "   '10.39%': 'TotalHoldingRatio',\n",
       "   '申万宏源西部证券有限公司': 'Pledgee',\n",
       "   '10000000股': 'PledgedShares',\n",
       "   '0.32%': 'OtherType',\n",
       "   '2018年9月7日': 'StartDate',\n",
       "   '225000000股': 'TotalPledgedShares'},\n",
       "  'recguid_eventname_eventdict_list': [[0,\n",
       "    'EquityPledge',\n",
       "    {'Pledger': '北京天佑投资有限公司',\n",
       "     'PledgedShares': '10000000股',\n",
       "     'Pledgee': '申万宏源西部证券有限公司',\n",
       "     'TotalHoldingShares': '325438596股',\n",
       "     'TotalHoldingRatio': '10.39%',\n",
       "     'TotalPledgedShares': '225000000股',\n",
       "     'StartDate': '2018年9月7日',\n",
       "     'EndDate': None,\n",
       "     'ReleasedDate': None}]],\n",
       "  'doc_type': 'o2o'}]"
      ]
     },
     "execution_count": 54,
     "metadata": {},
     "output_type": "execute_result"
    }
   ],
   "source": [
    "test[2]"
   ]
  },
  {
   "cell_type": "code",
   "execution_count": 55,
   "metadata": {},
   "outputs": [],
   "source": [
    "def write_to_file(path,dataset):\n",
    "    with open(path,\"w\",encoding=\"utf-8\") as fout:\n",
    "        for data in dataset:\n",
    "            fout.write(json.dumps(data,ensure_ascii = False)+\"\\n\")\n",
    "\n",
    "write_to_file(\"typed_train_short.json\",train)\n",
    "write_to_file(\"typed_dev_short.json\",dev)\n",
    "write_to_file(\"typed_test_short.json\",test)"
   ]
  },
  {
   "cell_type": "markdown",
   "metadata": {},
   "source": [
    "### 查看分完之后的句子平均数量"
   ]
  },
  {
   "cell_type": "code",
   "execution_count": 62,
   "metadata": {},
   "outputs": [
    {
     "name": "stdout",
     "output_type": "stream",
     "text": [
      "10470\n",
      "20037\n"
     ]
    }
   ],
   "source": [
    "num_sent = []\n",
    "for i in range(len(train)):\n",
    "    \n",
    "    num_sent.append(len(train[i][1]['sentences']))\n",
    "    if len(train[i][1]['sentences'])>64:\n",
    "       print (i)"
   ]
  },
  {
   "cell_type": "code",
   "execution_count": 72,
   "metadata": {},
   "outputs": [
    {
     "data": {
      "text/plain": [
       "9.980220037453183"
      ]
     },
     "execution_count": 72,
     "metadata": {},
     "output_type": "execute_result"
    }
   ],
   "source": [
    "import numpy as np\n",
    "np.mean(num_sent)"
   ]
  },
  {
   "cell_type": "code",
   "execution_count": 83,
   "metadata": {},
   "outputs": [
    {
     "data": {
      "text/plain": [
       "['SZ300298_2017-06-15_1203615530',\n",
       " {'sentences': ['证券代码：300298证券简称：三诺生物公告编号：2017-055',\n",
       "   '三诺生物传感股份有限公司关于公司股权激励计划全部剩余股票期权与限制性股票回购注销完成的公告',\n",
       "   '公司及董事会全体成员保证公告内容的真实、准确和完整，对公告的虚假记载、误导性陈述或者重大遗漏负连带责任。',\n",
       "   '特别提示：',\n",
       "   '1、本次回购注销的股票数量为989679股，占回购前公司总股本406026518股的0.24%，累计支付回购金额人民币8510173.49元。',\n",
       "   '2、本次注销的股票期权数量为1646269份，占注销前公司总股本的0.49%。',\n",
       "   '3、公司已于2017年6月14日在中国证券登记结算公司深圳分公司办理完毕前述限制性股票回购注销和股票期权注销业务。',\n",
       "   '本次回购注销完成后，公司股份总数由406026518股变更为405036839股',\n",
       "   '三诺生物传感股份有限公司（以下称“公司”或“三诺生物”）于2017年4月10日召开第三届董事会第五次会议，审议通过了《关于拟回购注销公司股权激励计划全部剩余股票期权与限制性股票的议案》，决定注销全部不符合行权条件的股票期权1646269份，回购注销全部不符合解锁条件的限制性股票824733股（含预留部分限制性股票），鉴于公司在本次限制性股票回购注销前已实施了2016年度权益分派方案（每10股派3.6元转增2股），本次实际应回购注销的限制性股份总额调整为989679股。',\n",
       "   '公司已于2017年6月14日完成了上述限制性股票回购注销和股票期权注销工作，现将相关事项公告如下：',\n",
       "   '一、股票期权与限制性股票激励计划简述',\n",
       "   '1、2013年9月2日，公司分别召开了第一届董事会第二十一次会议和第一届监事会第十五次会议，审议通过《三诺生物传感股份有限公司股票期权与限制性股票激励计划（草案）》及其摘要，公司独立董事对此发表了独立意见。',\n",
       "   '其后公司向中国证监会上报了申请备案材料。',\n",
       "   '2、根据中国证监会的反馈意见，公司对《三诺生物传感股份有限公司股票期权与限制性股票激励计划（草案）》进行了修订，并于2013年11月18日召开第二届董事会第三次会议和第二届监事会第三次会议，审议通过《三诺生物传感股份有限公司股票期权与限制性股票激励计划（草案修订稿）》及其摘要，公司独立董事对激励计划发表了独立意见。',\n",
       "   '3、激励计划经中国证监会备案无异议后，公司于2013年12月6日以现场投票、网络投票以及独立董事征集投票相结合的方式召开2013年第三次临时股东大会，会议以特别决议方式审议通过《三诺生物传感股份有限公司股票期权与限制性股票激励计划（草案修订稿）》及其摘要、《三诺生物传感股份有限公司股票期权与限制性股票激励计划实施考核管理办法（修订稿）》以及《关于提请股东大会授权董事会办理公司股票期权与限制性股票激励计划有关事宜的议案》，并授权董事会确定股票期权和限制性股票授予日、在激励对象符合条件时向激励对象授予股票期权与限制性股票，并办理授予股票期权与限制性股票所必须的全部事宜。',\n",
       "   '4、2013年12月9日，公司分别召开第二届董事会第四会议和第二届监事会第四次会议，审议通过《关于向激励对象授予股票期权与限制性股票的议案》，确定以2013年12月9日作为激励计划的授予日。',\n",
       "   '公司独立董事对股票期权与限制性股票授予相关事项发表了独立意见，认为激励对象主体资格合法、有效，与股东大会批准的激励计划中规定的激励对象相符，并一致同意以2013年12月9日作为激励计划的授予日，向符合条件的117名激励对象授予2600000份股票期权与1000000股限制性股票（不含预留限制性股票）。',\n",
       "   '5、2014年1月2日，公司分别召开第二届董事会第五会议和第二届监事会第五次会议，审议通过《关于对三诺生物传感股份有限公司股权激励计划首次授予限制性股票对象及数量进行调整的议案》，同意将首次授予限制性股票的激励对象从111人调整为107人，首次授予限制性股票的数量由1000000股调整为976000股（不含预留限制性股票）。',\n",
       "   '调整后，全体激励对象获授权益工具的数量由4000000份/股变更为3976000份/股（含预留400000股限制性股票），激励对象总人数由117人变更为113人。',\n",
       "   '公司独立董事对公司限制性股票授予对象及数量调整事项发表了独立意见。',\n",
       "   '6、2014年5月16日，公司召开第二届董事会第十一次会议，审议通过《关于调整〈公司股票期权与限制性股票激励计划（草案修订稿）〉所涉股票期权授予数量、行权价格和预留限制性股票数量的议案》，因公司完成2013年度权益分派方案实施工作后，公司总股本由132976000股增至199464000股，董事会决定对所涉股票期权授予数量、行权价格和预留限制性股票数量做相应调整，具体为：将公司股票期权的授予数量由2600000份调整为3900000份，行权价格由50.7元调整为33.47元；将公司预留部分限制性股票数量由400000股调整为600000股。',\n",
       "   '公司独立董事就此事项发表了独立意见。',\n",
       "   '7、2014年8月18日，公司召开第二届董事会第十三次会议和第二届监事会第十次会议，审议通过《关于向激励对象授予预留部分限制性股票的议案》，根据激励计划相关规定及2013年第三次临时股东大会的授权，董事会认为激励计划规定的关于预留部分限制性股票的各项授予条件已经满足，决定以2014年8月18日作为公司预留部分限制性股票的授予日，向全体76名激励对象授予全部600000股预留部分限制性股票，授予价格为17.96元/股。',\n",
       "   '公司独立董事就此事项发表了独立意见。',\n",
       "   '8、2014年9月19日，公司分别召开第二届董事会第十四次会议和第二届监事会第十一次会议，审议通过《关于调整预留部分限制性股票授予对象和数量的议案》，因个别限制性股票激励对象自动放弃激励资格，董事会决定将预留限制性股票的总数由600000股调整为596000股，授予限制性股票的激励对象由76人调整为75人。',\n",
       "   '公司独立董事就此事项发表了独立意见。',\n",
       "   '9、2014年11月28日，公司召开第二届董事会第十七次会议和第二届监事会第十三次会议，审议通过《关于拟回购注销部分不符合解锁条件限制性股票的议案》，鉴于原激励对象中周建华等3人因个人原因辞职已不符合激励条件，其已获授但未解锁的限制性股票（合计39000股）应全部回购注销；原激励对象中有8人因个人绩效考核结果为合格和良好，其已获授但不符合解锁条件的部分限制性股票（合计3355股）应予以回购注销。',\n",
       "   '公司拟对上述11人已获授不符合解锁条件的全部42355股限制性股票进行回购注销，回购价格为17.15元/股，回购金额为726388.25元。',\n",
       "   '10、2015年2月12日，公司召开第二届董事会第十八次会议和第二届监事会第十四次会议，审议通过《关于注销公司股权激励计划第二个行权期股票期权的议案》，因公司股权激励计划中6位股票期权激励对象2014年度工作绩效考核均不合格，不符合《考核管理办法》规定的行权条件。',\n",
       "   '根据《股权激励计划》相关规定，公司拟对上述6位股票期权激励对象在第二个行权期内已获授的975000份股票期权予以注销。',\n",
       "   '11、2015年6月15日，公司召开第二届董事会第二十一次会议，审议通过《关于调整〈公司股票期权与限制性股票激励计划（草案修订稿）〉所涉股票期权授予数量与行权价格的议案》，鉴于公司完成2014年度权益分派方案实施工作后，公司总股本由200841676股增至260859676股，董事会决定对所涉股票期权授予数量与行权价格做相应的调整，具体为：将公司股票期权的授予数量由2100969份调整为2728806份，行权价格由33.47元调整为25.493元。',\n",
       "   '公司独立董事就此事项发表了独立意见。',\n",
       "   '12、2015年8月3日，公司分别召开第二届董事会第二十二次会议和第二届监事会第十七次会议，审议通过《关于拟回购注销部分不符合解锁条件预留部分限制性股票的议案》，鉴于原预留部分限制性股票激励对象中有2人因个人原因辞职已不符合激励条件，其已获授但未解锁的限制性股票（合计12988股）应全部回购注销；原预留部分限制性股票激励对象中有4人因个人绩效考核结果为合格或良好，其已获授但不符合解锁条件的部分限制性股票（合计3117股）应予以回购注销。',\n",
       "   '公司拟对上述6人已获授但不符合解锁条件的全部16105股限制性股票进行回购注销，回购价格为13.83元/股，回购金额为222732.15元。',\n",
       "   '13、2015年11月27日，公司召开第二届董事会第二十七次会议和第二届监事会第二十一次会议，审议通过《关于拟回购注销部分不符合解锁条件限制性股票的议案》，鉴于原限制性股票激励对象中有5人因个人原因辞职已不符合激励条件，其已获授但未解锁的限制性股票（合计48949股）应全部回购注销；有4人因个人绩效考核结果为合格或良好，其已获授但不符合解锁条件的部分限制性股票（合计2240股）应相应回购注销。',\n",
       "   '公司拟对上述9人已获授但不符合解锁条件的全部51189股限制性股票进行回购注销，回购价格为13.2元/股，回购金额为675694.8元。',\n",
       "   '14、2016年2月19日，公司召开第二届董事会第二十九次会议和第二届监事会第二十三次会议，审议通过《关于拟回购注销公司股权激励计划部分股票期权和限制性股票的议案》，鉴于：（1）公司2015年实现扣除非经常性损益后净利润128815900.0元，比2012年同期（121116100.0元）增加7699800.0元，同比增长6.36%，低于80%，股票期权第三个行权期行权/限制性股票第三次解锁/预留部分限制性股票第二次解锁的绩效考核条件未全部实现，无法行权/解锁；（2）公司原限制性股票激励对象中9人因个人原因离职并获得公司同意，且已办理完毕离职手续。',\n",
       "   '原限制性股票激励对象中1人书面放弃其已获授权的预留部分限制性股票。',\n",
       "   '公司董事会决定对第三个行权期的全部股票期权1266362份进行注销，对第三个解锁期的全部限制性股票415921股（未包含离职人员激励对象已获授的数量）与第二个解锁期的全部预留部分限制性股票218378股（未包含离职人员及书面放弃人员激励对象已获授的数量）进行回购注销，同时决定对上述离职及书面放弃限制性股票的10人已获授权但未解锁的限制性股票（含预留部分限制性股票）80756股进行回购注销。',\n",
       "   '15、2016年4月22日，公司召开第二届董事会第三十次会议，审议通过《关于调整〈公司股票期权与限制性股票激励计划（草案修订稿）〉所涉股票期权授予数量与行权价格的议案》，鉴于公司实施完毕2015年度权益分派方案（每10股派3.6元转增3股）后公司总股本由260988465股增至339285004股，公司董事会决定根据2013年第三次临时股东大会的授权，按照《公司股票期权与限制性股票激励计划（草案修订稿）》的相关规定，对公司股票期权授予数量和行权价格做相应调整：股票期权授予数量由1266361份调整为1646269份，行权价格由25.49元调整为19.33元。',\n",
       "   '16、2017年4月10日，公司召开第三届董事会第五次会议和第三届监事会第四次会议，审议通过《关于拟回购注销公司股权激励计划全部剩余股票期权和限制性股票的议案》，鉴于：公司2016年度实现归属于上市公司股东的扣除非经常性损益的净利润为103856100.0元，较2012年度同期（121116100.0元）增长-14.25%，低于公司《三诺生物传感股份有限公司股票期权与限制性股票激励计划（草案修订稿）》规定的“2016年的净利润较2012年度同期增长不低于110%”的业绩指标考核条件。',\n",
       "   '股票期权第四个行权期行权/限制性股票第四次解锁/预留部分限制性股票第三次解锁的绩效考核条件未全部实现，无法行权/解锁。',\n",
       "   '公司董事会决定对第四个行权期的全部股票期权1646269份进行注销，对限制性股票第四个解锁/预留部分限制性股票第三次解锁期对应的全部限制性股票824733股进行回购注销。',\n",
       "   '17、2017年6月2日，公司召开第三届董事会第八次会议审议通过《关于调整拟回购注销限制性股票回购价格和数量的议案》，鉴于公司于2017年5月19日实施完成2016年度权益分派方案（向全体股东每10股派3.6元，转增2股）后，公司总股本由338355432股增至406026518股。',\n",
       "   '根据《三诺生物传感股份有限公司股票期权与限制性股票激励计划（草案修订稿）》的相关规定和公司2013年第三次临时股东大会的授权，公司董事会决定对回购注销的限制性股票的回购价格和数量进行相应的调整，其中：第四期限制性股票的回购价格由10.15元/股调整为8.46元/股，回购数量由540787股调整为648944股；第三期预留限制性股票的回购价格由10.64元/股调整为8.87元/股，回购数量由283946股调整为340735股；回购注销限制性股票总数由824733股调整为989679股。',\n",
       "   '二、本次股票期权与限制性股票回购注销的原因、数量和价格',\n",
       "   '（一）本次股票期权与限制性股票回购注销的原因',\n",
       "   '经信永中和会计师事务所（特殊普通合伙）审计，公司2016年度实现归属于上市公司股东的扣除非经常性损益的净利润为103856100.0元，较2012年度同期（121116100.0元）增长-14.25%，低于公司《三诺生物传感股份有限公司股票期权与限制性股票激励计划（草案修订稿）》规定的“2016年的净利润较2012年度同期增长不低于110%”的业绩指标考核条件。',\n",
       "   '因此，拟对公司《三诺生物传感股份有限公司股票期权与限制性股票激励计划（草案修订稿）》2016年度所涉及的全部第四期股票期权和限制性股票及第三期全部预留限制性股票进行回购注销。',\n",
       "   '（二）本次股票期权注销的数量',\n",
       "   '本次注销的股票期权数量为1646269份，约占注销前公司股本总额的比例为0.49%，具体明细如下：',\n",
       "   '（三）本次限制性股票回购注销的数量及回购价格',\n",
       "   '1、限制性股票第四个解锁期回购注销的数量及回购价格',\n",
       "   '限制性股票第四个解锁期回购注销的数量为648944股，涉及激励对象为93人，回购价格为8.46元/股（关于回购价格计算方法，具体内容详见公司在中国证监会指定创业板信息披露网站刊登的相关公告，公告编号：2017-052），回购金额为：5488988.05元。',\n",
       "   '2、预留部分限制性股票第三个解锁期回购注销的数量及回购价格',\n",
       "   '预留部分限制性股票第三个解锁期回购注销的数量为340735股，涉及激励对象为60人，回购价格为8.87元/股（关于回购价格计算方法，具体内容详见公司在中国证监会指定创业板信息披露网站刊登的相关公告，公告编号：2017-052），回购金额为：3021185.44元。',\n",
       "   '3、本次限制性股票回购注销明细如下：',\n",
       "   '公司本次回购不符合解锁条件的限制性股票时，应扣除相应的现金红利。',\n",
       "   '三、本次限制性股票回购注销和股票期权注销完成情况',\n",
       "   '目前，经中国证券登记结算有限责任公司深圳分公司确认，公司回购注销989679股限制性股票及注销1646269份股票期权事宜已办理完毕。',\n",
       "   '本次回购注销完成后，公司股本结构变动情况如下：',\n",
       "   '单位：股特此公告。',\n",
       "   '三诺生物传感股份有限公司董事会',\n",
       "   '二〇一七年六月十五日'],\n",
       "  'ann_valid_mspans': ['300298',\n",
       "   '三诺生物',\n",
       "   '三诺生物传感股份有限公司',\n",
       "   '989679股',\n",
       "   '8510173.49元',\n",
       "   '2017年6月14日',\n",
       "   '42355股',\n",
       "   '17.15元',\n",
       "   '726388.25元',\n",
       "   '16105股',\n",
       "   '13.83元',\n",
       "   '222732.15元',\n",
       "   '51189股',\n",
       "   '13.2元',\n",
       "   '675694.8元',\n",
       "   '10.15元',\n",
       "   '8.46元',\n",
       "   '10.64元',\n",
       "   '8.87元'],\n",
       "  'ann_valid_dranges': [[0, 5, 11],\n",
       "   [0, 16, 20],\n",
       "   [1, 0, 12],\n",
       "   [4, 14, 21],\n",
       "   [4, 59, 70],\n",
       "   [6, 6, 16],\n",
       "   [8, 0, 12],\n",
       "   [8, 22, 26],\n",
       "   [8, 228, 235],\n",
       "   [9, 4, 14],\n",
       "   [11, 51, 63],\n",
       "   [13, 19, 31],\n",
       "   [13, 100, 112],\n",
       "   [14, 89, 101],\n",
       "   [14, 129, 141],\n",
       "   [17, 49, 61],\n",
       "   [27, 22, 28],\n",
       "   [27, 45, 51],\n",
       "   [27, 59, 69],\n",
       "   [33, 22, 28],\n",
       "   [33, 45, 51],\n",
       "   [33, 59, 69],\n",
       "   [35, 22, 28],\n",
       "   [35, 45, 50],\n",
       "   [35, 58, 67],\n",
       "   [40, 168, 180],\n",
       "   [44, 3, 15],\n",
       "   [44, 114, 120],\n",
       "   [44, 125, 130],\n",
       "   [44, 172, 178],\n",
       "   [44, 183, 188],\n",
       "   [44, 236, 243],\n",
       "   [47, 106, 118],\n",
       "   [48, 8, 20],\n",
       "   [53, 43, 48],\n",
       "   [55, 47, 52],\n",
       "   [59, 32, 39],\n",
       "   [62, 0, 12]],\n",
       "  'ann_mspan2dranges': {'300298': [[0, 5, 11]],\n",
       "   '三诺生物': [[0, 16, 20], [8, 22, 26]],\n",
       "   '三诺生物传感股份有限公司': [[1, 0, 12],\n",
       "    [8, 0, 12],\n",
       "    [11, 51, 63],\n",
       "    [13, 19, 31],\n",
       "    [13, 100, 112],\n",
       "    [14, 89, 101],\n",
       "    [14, 129, 141],\n",
       "    [17, 49, 61],\n",
       "    [40, 168, 180],\n",
       "    [44, 3, 15],\n",
       "    [47, 106, 118],\n",
       "    [48, 8, 20],\n",
       "    [62, 0, 12]],\n",
       "   '989679股': [[4, 14, 21], [8, 228, 235], [44, 236, 243], [59, 32, 39]],\n",
       "   '8510173.49元': [[4, 59, 70]],\n",
       "   '2017年6月14日': [[6, 6, 16], [9, 4, 14]],\n",
       "   '42355股': [[27, 22, 28]],\n",
       "   '17.15元': [[27, 45, 51]],\n",
       "   '726388.25元': [[27, 59, 69]],\n",
       "   '16105股': [[33, 22, 28]],\n",
       "   '13.83元': [[33, 45, 51]],\n",
       "   '222732.15元': [[33, 59, 69]],\n",
       "   '51189股': [[35, 22, 28]],\n",
       "   '13.2元': [[35, 45, 50]],\n",
       "   '675694.8元': [[35, 58, 67]],\n",
       "   '10.15元': [[44, 114, 120]],\n",
       "   '8.46元': [[44, 125, 130], [53, 43, 48]],\n",
       "   '10.64元': [[44, 172, 178]],\n",
       "   '8.87元': [[44, 183, 188], [55, 47, 52]]},\n",
       "  'ann_mspan2guess_field': {'300298': 'StockCode',\n",
       "   '三诺生物': 'StockAbbr',\n",
       "   '三诺生物传感股份有限公司': 'CompanyName',\n",
       "   '17.15元': 'HighestTradingPrice',\n",
       "   '726388.25元': 'RepurchaseAmount',\n",
       "   '42355股': 'RepurchasedShares',\n",
       "   '13.2元': 'LowestTradingPrice',\n",
       "   '675694.8元': 'RepurchaseAmount',\n",
       "   '16105股': 'RepurchasedShares',\n",
       "   '13.83元': 'HighestTradingPrice',\n",
       "   '222732.15元': 'RepurchaseAmount',\n",
       "   '51189股': 'RepurchasedShares',\n",
       "   '10.15元': 'LowestTradingPrice',\n",
       "   '10.64元': 'HighestTradingPrice',\n",
       "   '8510173.49元': 'RepurchaseAmount',\n",
       "   '8.46元': 'LowestTradingPrice',\n",
       "   '8.87元': 'HighestTradingPrice',\n",
       "   '989679股': 'RepurchasedShares',\n",
       "   '2017年6月14日': 'ClosingDate'},\n",
       "  'recguid_eventname_eventdict_list': [[0,\n",
       "    'EquityRepurchase',\n",
       "    {'CompanyName': '三诺生物传感股份有限公司',\n",
       "     'HighestTradingPrice': '8.87元',\n",
       "     'LowestTradingPrice': '8.46元',\n",
       "     'RepurchasedShares': '989679股',\n",
       "     'ClosingDate': '2017年6月14日',\n",
       "     'RepurchaseAmount': '8510173.49元'}],\n",
       "   [1,\n",
       "    'EquityRepurchase',\n",
       "    {'CompanyName': '三诺生物传感股份有限公司',\n",
       "     'HighestTradingPrice': '13.2元',\n",
       "     'LowestTradingPrice': '13.2元',\n",
       "     'RepurchasedShares': '51189股',\n",
       "     'ClosingDate': None,\n",
       "     'RepurchaseAmount': '675694.8元'}],\n",
       "   [2,\n",
       "    'EquityRepurchase',\n",
       "    {'CompanyName': '三诺生物传感股份有限公司',\n",
       "     'HighestTradingPrice': '13.83元',\n",
       "     'LowestTradingPrice': '13.83元',\n",
       "     'RepurchasedShares': '16105股',\n",
       "     'ClosingDate': None,\n",
       "     'RepurchaseAmount': '222732.15元'}],\n",
       "   [3,\n",
       "    'EquityRepurchase',\n",
       "    {'CompanyName': '三诺生物传感股份有限公司',\n",
       "     'HighestTradingPrice': '17.15元',\n",
       "     'LowestTradingPrice': '17.15元',\n",
       "     'RepurchasedShares': '42355股',\n",
       "     'ClosingDate': None,\n",
       "     'RepurchaseAmount': '726388.25元'}],\n",
       "   [4,\n",
       "    'EquityRepurchase',\n",
       "    {'CompanyName': '三诺生物传感股份有限公司',\n",
       "     'HighestTradingPrice': '10.64元',\n",
       "     'LowestTradingPrice': '10.15元',\n",
       "     'RepurchasedShares': None,\n",
       "     'ClosingDate': None,\n",
       "     'RepurchaseAmount': '8510173.49元'}]],\n",
       "  'doc_type': 'o2m'}]"
      ]
     },
     "execution_count": 83,
     "metadata": {},
     "output_type": "execute_result"
    }
   ],
   "source": [
    "train[20037]"
   ]
  },
  {
   "cell_type": "markdown",
   "metadata": {},
   "source": [
    "### 自己测试"
   ]
  },
  {
   "cell_type": "code",
   "execution_count": 51,
   "metadata": {},
   "outputs": [
    {
     "ename": "ValueError",
     "evalue": "",
     "output_type": "error",
     "traceback": [
      "\u001b[1;31m---------------------------------------------------------------------------\u001b[0m",
      "\u001b[1;31mValueError\u001b[0m                                Traceback (most recent call last)",
      "\u001b[1;32m<ipython-input-51-a731e3c25849>\u001b[0m in \u001b[0;36m<module>\u001b[1;34m\u001b[0m\n\u001b[0;32m      2\u001b[0m \u001b[1;31m#dev = read_file(\"./typed_dev.json\")\u001b[0m\u001b[1;33m\u001b[0m\u001b[1;33m\u001b[0m\u001b[1;33m\u001b[0m\u001b[0m\n\u001b[0;32m      3\u001b[0m \u001b[0mtest\u001b[0m \u001b[1;33m=\u001b[0m \u001b[0mread_file\u001b[0m\u001b[1;33m(\u001b[0m\u001b[1;34m\"./typed_test.json\"\u001b[0m\u001b[1;33m)\u001b[0m\u001b[1;33m\u001b[0m\u001b[1;33m\u001b[0m\u001b[0m\n\u001b[1;32m----> 4\u001b[1;33m \u001b[0mconvert_data\u001b[0m\u001b[1;33m(\u001b[0m\u001b[0mtest\u001b[0m\u001b[1;33m)\u001b[0m\u001b[1;33m\u001b[0m\u001b[1;33m\u001b[0m\u001b[0m\n\u001b[0m",
      "\u001b[1;32m<ipython-input-42-b45f26972d94>\u001b[0m in \u001b[0;36mconvert_data\u001b[1;34m(dataset)\u001b[0m\n\u001b[0;32m      1\u001b[0m \u001b[1;32mdef\u001b[0m \u001b[0mconvert_data\u001b[0m\u001b[1;33m(\u001b[0m\u001b[0mdataset\u001b[0m\u001b[1;33m)\u001b[0m\u001b[1;33m:\u001b[0m\u001b[1;33m\u001b[0m\u001b[1;33m\u001b[0m\u001b[0m\n\u001b[0;32m      2\u001b[0m     \u001b[1;32mfor\u001b[0m \u001b[0mdata\u001b[0m \u001b[1;32min\u001b[0m \u001b[0mdataset\u001b[0m\u001b[1;33m:\u001b[0m\u001b[1;33m\u001b[0m\u001b[1;33m\u001b[0m\u001b[0m\n\u001b[1;32m----> 3\u001b[1;33m         \u001b[0mdata\u001b[0m\u001b[1;33m[\u001b[0m\u001b[1;36m1\u001b[0m\u001b[1;33m]\u001b[0m\u001b[1;33m[\u001b[0m\u001b[1;34m'sentences'\u001b[0m\u001b[1;33m]\u001b[0m \u001b[1;33m=\u001b[0m \u001b[0mconvert_sents\u001b[0m\u001b[1;33m(\u001b[0m\u001b[0mdata\u001b[0m\u001b[1;33m[\u001b[0m\u001b[1;36m1\u001b[0m\u001b[1;33m]\u001b[0m\u001b[1;33m[\u001b[0m\u001b[1;34m'sentences'\u001b[0m\u001b[1;33m]\u001b[0m\u001b[1;33m)\u001b[0m\u001b[1;33m\u001b[0m\u001b[1;33m\u001b[0m\u001b[0m\n\u001b[0m",
      "\u001b[1;32m<ipython-input-50-34cbb03ab124>\u001b[0m in \u001b[0;36mconvert_sents\u001b[1;34m(text)\u001b[0m\n\u001b[0;32m      6\u001b[0m \u001b[1;32mdef\u001b[0m \u001b[0mconvert_sents\u001b[0m\u001b[1;33m(\u001b[0m\u001b[0mtext\u001b[0m\u001b[1;33m)\u001b[0m\u001b[1;33m:\u001b[0m\u001b[1;33m\u001b[0m\u001b[1;33m\u001b[0m\u001b[0m\n\u001b[0;32m      7\u001b[0m     \u001b[1;31m#text = '。'.join(text1[:3])+''.join(text1[3:])\u001b[0m\u001b[1;33m\u001b[0m\u001b[1;33m\u001b[0m\u001b[1;33m\u001b[0m\u001b[0m\n\u001b[1;32m----> 8\u001b[1;33m     \u001b[0msents\u001b[0m \u001b[1;33m=\u001b[0m \u001b[0msent_seg\u001b[0m\u001b[1;33m(\u001b[0m\u001b[0mtext\u001b[0m\u001b[1;33m,\u001b[0m \u001b[0mpunctuations\u001b[0m\u001b[1;33m=\u001b[0m\u001b[1;33m{\u001b[0m\u001b[1;34m\"；\"\u001b[0m\u001b[1;33m}\u001b[0m\u001b[1;33m)\u001b[0m \u001b[1;31m# qy:sentence segmentation\u001b[0m\u001b[1;33m\u001b[0m\u001b[1;33m\u001b[0m\u001b[0m\n\u001b[0m\u001b[0;32m      9\u001b[0m     \u001b[1;31m#sents = reorganise_sents(sents, max_seq_len = 128, concat=True) # qy:合并短句\u001b[0m\u001b[1;33m\u001b[0m\u001b[1;33m\u001b[0m\u001b[1;33m\u001b[0m\u001b[0m\n\u001b[0;32m     10\u001b[0m             \u001b[1;31m# sents = d['map_sentences']\u001b[0m\u001b[1;33m\u001b[0m\u001b[1;33m\u001b[0m\u001b[1;33m\u001b[0m\u001b[0m\n",
      "\u001b[1;32m<ipython-input-7-f6472b8225f5>\u001b[0m in \u001b[0;36msent_seg\u001b[1;34m(text, special_seg_indicators, lang, punctuations, quotation_seg_mode)\u001b[0m\n\u001b[0;32m     28\u001b[0m     \u001b[1;31m# if texts are not in string format, raise an error\u001b[0m\u001b[1;33m\u001b[0m\u001b[1;33m\u001b[0m\u001b[1;33m\u001b[0m\u001b[0m\n\u001b[0;32m     29\u001b[0m     \u001b[1;32mif\u001b[0m \u001b[1;32mnot\u001b[0m \u001b[0misinstance\u001b[0m\u001b[1;33m(\u001b[0m\u001b[0mtext\u001b[0m\u001b[1;33m,\u001b[0m \u001b[0mstr\u001b[0m\u001b[1;33m)\u001b[0m\u001b[1;33m:\u001b[0m\u001b[1;33m\u001b[0m\u001b[1;33m\u001b[0m\u001b[0m\n\u001b[1;32m---> 30\u001b[1;33m         \u001b[1;32mraise\u001b[0m \u001b[0mValueError\u001b[0m\u001b[1;33m\u001b[0m\u001b[1;33m\u001b[0m\u001b[0m\n\u001b[0m\u001b[0;32m     31\u001b[0m \u001b[1;33m\u001b[0m\u001b[0m\n\u001b[0;32m     32\u001b[0m     \u001b[1;31m# if the text is empty, return a list with an empty string\u001b[0m\u001b[1;33m\u001b[0m\u001b[1;33m\u001b[0m\u001b[1;33m\u001b[0m\u001b[0m\n",
      "\u001b[1;31mValueError\u001b[0m: "
     ]
    }
   ],
   "source": [
    "\n",
    "#train = read_file(\"./typed_train.json\")\n",
    "#dev = read_file(\"./typed_dev.json\")\n",
    "test = read_file(\"./typed_test.json\")\n",
    "convert_data(test)"
   ]
  },
  {
   "cell_type": "code",
   "execution_count": 47,
   "metadata": {},
   "outputs": [
    {
     "data": {
      "text/plain": [
       "15.017790262172285"
      ]
     },
     "execution_count": 47,
     "metadata": {},
     "output_type": "execute_result"
    }
   ],
   "source": [
    "num_sent = []\n",
    "for i in range(len(test)):\n",
    "    #for sent in train[i][1]['sentences']:\n",
    "    num_sent.append(len(test[i][1]['sentences']))\n",
    "bp.mean(num_sent)    "
   ]
  }
 ],
 "metadata": {
  "kernelspec": {
   "display_name": "Python 3",
   "language": "python",
   "name": "python3"
  },
  "language_info": {
   "codemirror_mode": {
    "name": "ipython",
    "version": 3
   },
   "file_extension": ".py",
   "mimetype": "text/x-python",
   "name": "python",
   "nbconvert_exporter": "python",
   "pygments_lexer": "ipython3",
   "version": "3.8.3"
  },
  "toc": {
   "base_numbering": 1,
   "nav_menu": {},
   "number_sections": true,
   "sideBar": true,
   "skip_h1_title": false,
   "title_cell": "Table of Contents",
   "title_sidebar": "Contents",
   "toc_cell": false,
   "toc_position": {},
   "toc_section_display": true,
   "toc_window_display": false
  }
 },
 "nbformat": 4,
 "nbformat_minor": 4
}
